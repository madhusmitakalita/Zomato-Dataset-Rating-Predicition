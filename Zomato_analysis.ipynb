{
 "cells": [
  {
   "cell_type": "code",
   "execution_count": 1,
   "metadata": {},
   "outputs": [
    {
     "data": {
      "text/plain": [
       "url                                0\n",
       "address                            0\n",
       "name                               0\n",
       "online_order                       0\n",
       "book_table                         0\n",
       "rate                            7775\n",
       "votes                              0\n",
       "phone                           1208\n",
       "location                          21\n",
       "rest_type                        227\n",
       "dish_liked                     28078\n",
       "cuisines                          45\n",
       "approx_cost(for two people)      346\n",
       "reviews_list                       0\n",
       "menu_item                          0\n",
       "listed_in(type)                    0\n",
       "listed_in(city)                    0\n",
       "dtype: int64"
      ]
     },
     "execution_count": 1,
     "metadata": {},
     "output_type": "execute_result"
    }
   ],
   "source": [
    "import numpy as np\n",
    "import pandas as pd\n",
    "import matplotlib.pyplot as plt\n",
    "import seaborn as sns\n",
    "\n",
    "import warnings\n",
    "warnings.filterwarnings('ignore')\n",
    "\n",
    "dataset=pd.read_csv(\"zomato.csv\")\n",
    "dataset.isnull().sum()"
   ]
  },
  {
   "cell_type": "markdown",
   "metadata": {},
   "source": [
    "# Date Preprocessing"
   ]
  },
  {
   "cell_type": "code",
   "execution_count": 2,
   "metadata": {
    "scrolled": true
   },
   "outputs": [
    {
     "data": {
      "text/plain": [
       "url                                0\n",
       "address                            0\n",
       "name                               0\n",
       "online_order                       0\n",
       "book_table                         0\n",
       "rate                               0\n",
       "votes                              0\n",
       "phone                            828\n",
       "location                           0\n",
       "rest_type                        151\n",
       "dish_liked                     20264\n",
       "cuisines                          11\n",
       "approx_cost(for two people)      248\n",
       "reviews_list                       0\n",
       "menu_item                          0\n",
       "listed_in(type)                    0\n",
       "listed_in(city)                    0\n",
       "dtype: int64"
      ]
     },
     "execution_count": 2,
     "metadata": {},
     "output_type": "execute_result"
    }
   ],
   "source": [
    "#removing the missing value\n",
    "dataset = dataset.loc[dataset.rate !='-']\n",
    "dataset = dataset[dataset[\"rate\"].notnull()]\n",
    "dataset.shape\n",
    "dataset.isnull().sum()"
   ]
  },
  {
   "cell_type": "code",
   "execution_count": 3,
   "metadata": {},
   "outputs": [
    {
     "data": {
      "text/plain": [
       "(41665, 17)"
      ]
     },
     "execution_count": 3,
     "metadata": {},
     "output_type": "execute_result"
    }
   ],
   "source": [
    "#removing few rows with invalid class values\n",
    "dataset= dataset.loc[dataset.rate !='NEW']\n",
    "dataset.shape"
   ]
  },
  {
   "cell_type": "code",
   "execution_count": 4,
   "metadata": {},
   "outputs": [],
   "source": [
    "#converting cost to float\n",
    "dataset = dataset.rename({\"approx_cost(for two people)\": \"cost\"}, axis=1)\n",
    "dataset[\"cost\"] = dataset[\"cost\"].replace(\",\", \"\", regex = True)\n",
    "dataset[[\"cost\"]] = dataset[[\"cost\"]].apply(pd.to_numeric)"
   ]
  },
  {
   "cell_type": "code",
   "execution_count": 5,
   "metadata": {},
   "outputs": [
    {
     "data": {
      "text/plain": [
       "603.2680477087257"
      ]
     },
     "execution_count": 5,
     "metadata": {},
     "output_type": "execute_result"
    }
   ],
   "source": [
    "#imputing the missing few cost values with mean\n",
    "cost_mean=dataset['cost'].mean()\n",
    "dataset[\"cost\"].fillna(cost_mean, inplace = True)\n",
    "cost_mean"
   ]
  },
  {
   "cell_type": "code",
   "execution_count": 6,
   "metadata": {},
   "outputs": [
    {
     "data": {
      "text/plain": [
       "'Quick Bites'"
      ]
     },
     "execution_count": 6,
     "metadata": {},
     "output_type": "execute_result"
    }
   ],
   "source": [
    "dataset.rest_type.mode()[0]"
   ]
  },
  {
   "cell_type": "code",
   "execution_count": 7,
   "metadata": {},
   "outputs": [
    {
     "data": {
      "text/plain": [
       "url                    0\n",
       "address                0\n",
       "name                   0\n",
       "online_order           0\n",
       "book_table             0\n",
       "rate                   0\n",
       "votes                  0\n",
       "phone                814\n",
       "location               0\n",
       "rest_type              0\n",
       "dish_liked         18203\n",
       "cuisines              11\n",
       "cost                   0\n",
       "reviews_list           0\n",
       "menu_item              0\n",
       "listed_in(type)        0\n",
       "listed_in(city)        0\n",
       "dtype: int64"
      ]
     },
     "execution_count": 7,
     "metadata": {},
     "output_type": "execute_result"
    }
   ],
   "source": [
    "#imputing the missing few restaurant type values with mode\n",
    "dataset[\"rest_type\"].fillna(dataset.rest_type.mode()[0], inplace = True)\n",
    "dataset.isnull().sum()"
   ]
  },
  {
   "cell_type": "code",
   "execution_count": 8,
   "metadata": {},
   "outputs": [],
   "source": [
    "#remove bad characters in the rate column\n",
    "dataset[\"rating\"] = dataset[\"rate\"].str[:3]\n",
    "dataset.drop(\"rate\", axis = 1, inplace = True)"
   ]
  },
  {
   "cell_type": "code",
   "execution_count": 9,
   "metadata": {},
   "outputs": [
    {
     "data": {
      "text/plain": [
       "0    North Indian\n",
       "dtype: object"
      ]
     },
     "execution_count": 9,
     "metadata": {},
     "output_type": "execute_result"
    }
   ],
   "source": [
    "dataset.cuisines.mode()"
   ]
  },
  {
   "cell_type": "code",
   "execution_count": 10,
   "metadata": {},
   "outputs": [
    {
     "data": {
      "text/plain": [
       "url                    0\n",
       "address                0\n",
       "name                   0\n",
       "online_order           0\n",
       "book_table             0\n",
       "votes                  0\n",
       "phone                814\n",
       "location               0\n",
       "rest_type              0\n",
       "dish_liked         18203\n",
       "cuisines               0\n",
       "cost                   0\n",
       "reviews_list           0\n",
       "menu_item              0\n",
       "listed_in(type)        0\n",
       "listed_in(city)        0\n",
       "rating                 0\n",
       "dtype: int64"
      ]
     },
     "execution_count": 10,
     "metadata": {},
     "output_type": "execute_result"
    }
   ],
   "source": [
    "#imputing the missing few cuisines values with mode\n",
    "dataset[\"cuisines\"].fillna(dataset.cuisines.mode()[0], inplace = True)\n",
    "dataset.isnull().sum()"
   ]
  },
  {
   "cell_type": "code",
   "execution_count": 11,
   "metadata": {},
   "outputs": [],
   "source": [
    "#removing unwanted columns\n",
    "del dataset['url']\n",
    "del dataset['phone']\n",
    "del dataset['dish_liked']\n",
    "del dataset['reviews_list']\n",
    "del dataset['menu_item']\n",
    "del dataset['listed_in(type)']\n",
    "del dataset['listed_in(city)']"
   ]
  },
  {
   "cell_type": "code",
   "execution_count": 12,
   "metadata": {},
   "outputs": [],
   "source": [
    "#make column numeric\n",
    "dataset[\"rating\"] = pd.to_numeric(dataset[\"rating\"])"
   ]
  },
  {
   "cell_type": "code",
   "execution_count": 13,
   "metadata": {},
   "outputs": [],
   "source": [
    "#grouping the resturant\n",
    "temp = dataset.groupby(['name','location','address','online_order','book_table','rest_type','cost','cuisines']).agg({'rating': [np.mean],   'votes':[np.mean]})        "
   ]
  },
  {
   "cell_type": "code",
   "execution_count": 14,
   "metadata": {},
   "outputs": [],
   "source": [
    "#save the dataset temporarily\n",
    "temp.to_csv('zomato3.csv')"
   ]
  },
  {
   "cell_type": "code",
   "execution_count": 15,
   "metadata": {},
   "outputs": [
    {
     "data": {
      "text/plain": [
       "(10387, 2)"
      ]
     },
     "execution_count": 15,
     "metadata": {},
     "output_type": "execute_result"
    }
   ],
   "source": [
    "temp.values.shape"
   ]
  },
  {
   "cell_type": "code",
   "execution_count": 16,
   "metadata": {},
   "outputs": [],
   "source": [
    "#read dataset again as grouped\n",
    "dataset_grouped=pd.read_csv(\"zomato3.csv\")\n",
    "dataset_grouped.columns = ['name','location','address','online_order','book_table','rest_type','cost','cuisines','rating','votes']\n",
    "dataset_grouped = dataset_grouped.iloc[3:]"
   ]
  },
  {
   "cell_type": "code",
   "execution_count": 17,
   "metadata": {},
   "outputs": [
    {
     "data": {
      "text/html": [
       "<div>\n",
       "<style scoped>\n",
       "    .dataframe tbody tr th:only-of-type {\n",
       "        vertical-align: middle;\n",
       "    }\n",
       "\n",
       "    .dataframe tbody tr th {\n",
       "        vertical-align: top;\n",
       "    }\n",
       "\n",
       "    .dataframe thead th {\n",
       "        text-align: right;\n",
       "    }\n",
       "</style>\n",
       "<table border=\"1\" class=\"dataframe\">\n",
       "  <thead>\n",
       "    <tr style=\"text-align: right;\">\n",
       "      <th></th>\n",
       "      <th>name</th>\n",
       "      <th>location</th>\n",
       "      <th>address</th>\n",
       "      <th>online_order</th>\n",
       "      <th>book_table</th>\n",
       "      <th>rest_type</th>\n",
       "      <th>cost</th>\n",
       "      <th>cuisines</th>\n",
       "      <th>rating</th>\n",
       "      <th>votes</th>\n",
       "    </tr>\n",
       "  </thead>\n",
       "  <tbody>\n",
       "    <tr>\n",
       "      <th>3</th>\n",
       "      <td>#L-81 Cafe</td>\n",
       "      <td>HSR</td>\n",
       "      <td>Sector 6, HSR Layout, HSR</td>\n",
       "      <td>Yes</td>\n",
       "      <td>No</td>\n",
       "      <td>Quick Bites</td>\n",
       "      <td>400.0</td>\n",
       "      <td>Fast Food, Beverages</td>\n",
       "      <td>3.8999999999999995</td>\n",
       "      <td>48.0</td>\n",
       "    </tr>\n",
       "    <tr>\n",
       "      <th>4</th>\n",
       "      <td>#refuel</td>\n",
       "      <td>Bannerghatta Road</td>\n",
       "      <td>7, Ground Floor, RR Commercial Complex, Akshay...</td>\n",
       "      <td>Yes</td>\n",
       "      <td>No</td>\n",
       "      <td>Cafe</td>\n",
       "      <td>400.0</td>\n",
       "      <td>Cafe, Beverages</td>\n",
       "      <td>3.7000000000000006</td>\n",
       "      <td>37.0</td>\n",
       "    </tr>\n",
       "    <tr>\n",
       "      <th>5</th>\n",
       "      <td>1000 B.C</td>\n",
       "      <td>Koramangala 5th Block</td>\n",
       "      <td>16, 17th A Main, Koramangala 5th Block, Bangalore</td>\n",
       "      <td>Yes</td>\n",
       "      <td>No</td>\n",
       "      <td>Quick Bites</td>\n",
       "      <td>300.0</td>\n",
       "      <td>Arabian, Sandwich, Rolls, Burger</td>\n",
       "      <td>3.1999999999999997</td>\n",
       "      <td>49.0</td>\n",
       "    </tr>\n",
       "    <tr>\n",
       "      <th>6</th>\n",
       "      <td>100ÃÂÃÂÃÂÃÂÃÂÃÂÃÂÃÂ°C</td>\n",
       "      <td>BTM</td>\n",
       "      <td>688, Thanish Corner, 7th Main, 10th Cross, 2nd...</td>\n",
       "      <td>No</td>\n",
       "      <td>No</td>\n",
       "      <td>Casual Dining</td>\n",
       "      <td>450.0</td>\n",
       "      <td>Biryani, North Indian</td>\n",
       "      <td>3.7000000000000006</td>\n",
       "      <td>41.0</td>\n",
       "    </tr>\n",
       "    <tr>\n",
       "      <th>7</th>\n",
       "      <td>11 to 11 Express Biriyanis</td>\n",
       "      <td>Electronic City</td>\n",
       "      <td>Near Velankani Bus Stop, Electroniccity Phase ...</td>\n",
       "      <td>Yes</td>\n",
       "      <td>No</td>\n",
       "      <td>Quick Bites</td>\n",
       "      <td>300.0</td>\n",
       "      <td>Biryani, Kebab</td>\n",
       "      <td>3.5</td>\n",
       "      <td>22.0</td>\n",
       "    </tr>\n",
       "  </tbody>\n",
       "</table>\n",
       "</div>"
      ],
      "text/plain": [
       "                                   name               location  \\\n",
       "3                            #L-81 Cafe                    HSR   \n",
       "4                               #refuel      Bannerghatta Road   \n",
       "5                              1000 B.C  Koramangala 5th Block   \n",
       "6  100ÃÂÃÂÃÂÃÂÃÂÃÂÃÂÃÂ°C                    BTM   \n",
       "7            11 to 11 Express Biriyanis        Electronic City   \n",
       "\n",
       "                                             address online_order book_table  \\\n",
       "3                          Sector 6, HSR Layout, HSR          Yes         No   \n",
       "4  7, Ground Floor, RR Commercial Complex, Akshay...          Yes         No   \n",
       "5  16, 17th A Main, Koramangala 5th Block, Bangalore          Yes         No   \n",
       "6  688, Thanish Corner, 7th Main, 10th Cross, 2nd...           No         No   \n",
       "7  Near Velankani Bus Stop, Electroniccity Phase ...          Yes         No   \n",
       "\n",
       "       rest_type   cost                          cuisines              rating  \\\n",
       "3    Quick Bites  400.0              Fast Food, Beverages  3.8999999999999995   \n",
       "4           Cafe  400.0                   Cafe, Beverages  3.7000000000000006   \n",
       "5    Quick Bites  300.0  Arabian, Sandwich, Rolls, Burger  3.1999999999999997   \n",
       "6  Casual Dining  450.0             Biryani, North Indian  3.7000000000000006   \n",
       "7    Quick Bites  300.0                    Biryani, Kebab                 3.5   \n",
       "\n",
       "  votes  \n",
       "3  48.0  \n",
       "4  37.0  \n",
       "5  49.0  \n",
       "6  41.0  \n",
       "7  22.0  "
      ]
     },
     "execution_count": 17,
     "metadata": {},
     "output_type": "execute_result"
    }
   ],
   "source": [
    "dataset_grouped.head()"
   ]
  },
  {
   "cell_type": "markdown",
   "metadata": {},
   "source": [
    "## Visualization patterns for important features"
   ]
  },
  {
   "cell_type": "code",
   "execution_count": 18,
   "metadata": {},
   "outputs": [
    {
     "data": {
      "image/png": "[encoded data removed]",
      "text/plain": [
       "<Figure size 216x360 with 1 Axes>"
      ]
     },
     "metadata": {},
     "output_type": "display_data"
    }
   ],
   "source": [
    "# Bar chart to understand online order's data:\n",
    "from seaborn import countplot\n",
    "from matplotlib.pyplot import figure, show\n",
    "width=10\n",
    "height=5\n",
    "\n",
    "width=3\n",
    "height=5\n",
    "\n",
    "figure(figsize=(width,height))\n",
    "countplot(data=dataset_grouped,x=\"online_order\")\n",
    "show()"
   ]
  },
  {
   "cell_type": "code",
   "execution_count": 19,
   "metadata": {},
   "outputs": [
    {
     "data": {
      "image/png": "[encoded data removed]",
      "text/plain": [
       "<Figure size 1440x360 with 1 Axes>"
      ]
     },
     "metadata": {},
     "output_type": "display_data"
    }
   ],
   "source": [
    "# Bar chart to understand cost's data:\n",
    "width=20\n",
    "height=5\n",
    "\n",
    "figure(figsize=(width,height))\n",
    "countplot(data=dataset_grouped.head(100),x=\"cost\")\n",
    "show()"
   ]
  },
  {
   "cell_type": "code",
   "execution_count": 20,
   "metadata": {},
   "outputs": [
    {
     "data": {
      "image/png": "[encoded data removed]",
      "text/plain": [
       "<Figure size 1440x360 with 1 Axes>"
      ]
     },
     "metadata": {},
     "output_type": "display_data"
    }
   ],
   "source": [
    "# Bar chart to understand restaurant type's data:\n",
    "width=20\n",
    "height=5\n",
    "\n",
    "figure(figsize=(width,height))\n",
    "countplot(data=dataset_grouped.head(200),x=\"rest_type\")\n",
    "show()"
   ]
  },
  {
   "cell_type": "code",
   "execution_count": 21,
   "metadata": {},
   "outputs": [],
   "source": [
    "\n",
    "dataset_grouped[\"rating\"] = pd.to_numeric(dataset_grouped[\"rating\"])\n",
    "category = pd.cut(dataset_grouped.rating,bins=[0,2.9,3.9,5],labels=['0','1','2'])\n",
    "dataset_grouped.insert(5,'new_rate',category)"
   ]
  },
  {
   "cell_type": "code",
   "execution_count": 22,
   "metadata": {},
   "outputs": [
    {
     "data": {
      "image/png": "[encoded data removed]",
      "text/plain": [
       "<Figure size 216x360 with 1 Axes>"
      ]
     },
     "metadata": {},
     "output_type": "display_data"
    }
   ],
   "source": [
    "# Bar chart to understand Rate Class's data:\n",
    "width=3\n",
    "height=5\n",
    "\n",
    "figure(figsize=(width,height))\n",
    "countplot(data=dataset_grouped,x=\"new_rate\")\n",
    "show()"
   ]
  },
  {
   "cell_type": "code",
   "execution_count": 23,
   "metadata": {},
   "outputs": [],
   "source": [
    "#convert votes and cost from string to numeric\n",
    "dataset_grouped[\"votes\"] = pd.to_numeric(dataset_grouped[\"votes\"])\n",
    "dataset_grouped[\"cost\"] = pd.to_numeric(dataset_grouped[\"cost\"])"
   ]
  },
  {
   "cell_type": "code",
   "execution_count": 24,
   "metadata": {
    "scrolled": true
   },
   "outputs": [
    {
     "data": {
      "text/html": [
       "<div>\n",
       "<style scoped>\n",
       "    .dataframe tbody tr th:only-of-type {\n",
       "        vertical-align: middle;\n",
       "    }\n",
       "\n",
       "    .dataframe tbody tr th {\n",
       "        vertical-align: top;\n",
       "    }\n",
       "\n",
       "    .dataframe thead th {\n",
       "        text-align: right;\n",
       "    }\n",
       "</style>\n",
       "<table border=\"1\" class=\"dataframe\">\n",
       "  <thead>\n",
       "    <tr style=\"text-align: right;\">\n",
       "      <th></th>\n",
       "      <th>name</th>\n",
       "      <th>location</th>\n",
       "      <th>address</th>\n",
       "      <th>online_order</th>\n",
       "      <th>book_table</th>\n",
       "      <th>new_rate</th>\n",
       "      <th>rest_type</th>\n",
       "      <th>cost</th>\n",
       "      <th>cuisines</th>\n",
       "      <th>rating</th>\n",
       "      <th>votes</th>\n",
       "    </tr>\n",
       "  </thead>\n",
       "  <tbody>\n",
       "    <tr>\n",
       "      <th>3</th>\n",
       "      <td>#L-81 Cafe</td>\n",
       "      <td>HSR</td>\n",
       "      <td>Sector 6, HSR Layout, HSR</td>\n",
       "      <td>Yes</td>\n",
       "      <td>No</td>\n",
       "      <td>1</td>\n",
       "      <td>Quick Bites</td>\n",
       "      <td>400.0</td>\n",
       "      <td>Fast Food, Beverages</td>\n",
       "      <td>3.9</td>\n",
       "      <td>48.0</td>\n",
       "    </tr>\n",
       "    <tr>\n",
       "      <th>4</th>\n",
       "      <td>#refuel</td>\n",
       "      <td>Bannerghatta Road</td>\n",
       "      <td>7, Ground Floor, RR Commercial Complex, Akshay...</td>\n",
       "      <td>Yes</td>\n",
       "      <td>No</td>\n",
       "      <td>1</td>\n",
       "      <td>Cafe</td>\n",
       "      <td>400.0</td>\n",
       "      <td>Cafe, Beverages</td>\n",
       "      <td>3.7</td>\n",
       "      <td>37.0</td>\n",
       "    </tr>\n",
       "    <tr>\n",
       "      <th>5</th>\n",
       "      <td>1000 B.C</td>\n",
       "      <td>Koramangala 5th Block</td>\n",
       "      <td>16, 17th A Main, Koramangala 5th Block, Bangalore</td>\n",
       "      <td>Yes</td>\n",
       "      <td>No</td>\n",
       "      <td>1</td>\n",
       "      <td>Quick Bites</td>\n",
       "      <td>300.0</td>\n",
       "      <td>Arabian, Sandwich, Rolls, Burger</td>\n",
       "      <td>3.2</td>\n",
       "      <td>49.0</td>\n",
       "    </tr>\n",
       "    <tr>\n",
       "      <th>6</th>\n",
       "      <td>100ÃÂÃÂÃÂÃÂÃÂÃÂÃÂÃÂ°C</td>\n",
       "      <td>BTM</td>\n",
       "      <td>688, Thanish Corner, 7th Main, 10th Cross, 2nd...</td>\n",
       "      <td>No</td>\n",
       "      <td>No</td>\n",
       "      <td>1</td>\n",
       "      <td>Casual Dining</td>\n",
       "      <td>450.0</td>\n",
       "      <td>Biryani, North Indian</td>\n",
       "      <td>3.7</td>\n",
       "      <td>41.0</td>\n",
       "    </tr>\n",
       "    <tr>\n",
       "      <th>7</th>\n",
       "      <td>11 to 11 Express Biriyanis</td>\n",
       "      <td>Electronic City</td>\n",
       "      <td>Near Velankani Bus Stop, Electroniccity Phase ...</td>\n",
       "      <td>Yes</td>\n",
       "      <td>No</td>\n",
       "      <td>1</td>\n",
       "      <td>Quick Bites</td>\n",
       "      <td>300.0</td>\n",
       "      <td>Biryani, Kebab</td>\n",
       "      <td>3.5</td>\n",
       "      <td>22.0</td>\n",
       "    </tr>\n",
       "  </tbody>\n",
       "</table>\n",
       "</div>"
      ],
      "text/plain": [
       "                                   name               location  \\\n",
       "3                            #L-81 Cafe                    HSR   \n",
       "4                               #refuel      Bannerghatta Road   \n",
       "5                              1000 B.C  Koramangala 5th Block   \n",
       "6  100ÃÂÃÂÃÂÃÂÃÂÃÂÃÂÃÂ°C                    BTM   \n",
       "7            11 to 11 Express Biriyanis        Electronic City   \n",
       "\n",
       "                                             address online_order book_table  \\\n",
       "3                          Sector 6, HSR Layout, HSR          Yes         No   \n",
       "4  7, Ground Floor, RR Commercial Complex, Akshay...          Yes         No   \n",
       "5  16, 17th A Main, Koramangala 5th Block, Bangalore          Yes         No   \n",
       "6  688, Thanish Corner, 7th Main, 10th Cross, 2nd...           No         No   \n",
       "7  Near Velankani Bus Stop, Electroniccity Phase ...          Yes         No   \n",
       "\n",
       "  new_rate      rest_type   cost                          cuisines  rating  \\\n",
       "3        1    Quick Bites  400.0              Fast Food, Beverages     3.9   \n",
       "4        1           Cafe  400.0                   Cafe, Beverages     3.7   \n",
       "5        1    Quick Bites  300.0  Arabian, Sandwich, Rolls, Burger     3.2   \n",
       "6        1  Casual Dining  450.0             Biryani, North Indian     3.7   \n",
       "7        1    Quick Bites  300.0                    Biryani, Kebab     3.5   \n",
       "\n",
       "   votes  \n",
       "3   48.0  \n",
       "4   37.0  \n",
       "5   49.0  \n",
       "6   41.0  \n",
       "7   22.0  "
      ]
     },
     "execution_count": 24,
     "metadata": {},
     "output_type": "execute_result"
    }
   ],
   "source": [
    "dataset_grouped.head()"
   ]
  },
  {
   "cell_type": "code",
   "execution_count": 25,
   "metadata": {},
   "outputs": [
    {
     "name": "stdout",
     "output_type": "stream",
     "text": [
      "   name  location  address  online_order  book_table  rest_type   cost  \\\n",
      "3     0        22     8277             1           0         73  400.0   \n",
      "4     1         3     5460             1           0         16  400.0   \n",
      "5     2        44     1443             1           0         73  300.0   \n",
      "6     3         0     5387             0           0         24  450.0   \n",
      "7     4        19     7718             1           0         73  300.0   \n",
      "\n",
      "   cuisines  votes  \n",
      "3      1108   48.0  \n",
      "4       510   37.0  \n",
      "5       157   49.0  \n",
      "6       401   41.0  \n",
      "7       382   22.0  \n"
     ]
    }
   ],
   "source": [
    "#Encode numeric columns to work with sklearn library methods\n",
    "\n",
    "y = dataset_grouped.iloc[:, 5]\n",
    "\n",
    "filteredDS = dataset_grouped.drop(['rating', 'new_rate'], axis=1)\n",
    "\n",
    "# label encoding for location\n",
    "\n",
    "from sklearn.preprocessing import LabelEncoder\n",
    "\n",
    "lb_make = LabelEncoder()\n",
    "filteredDS['location'] = lb_make.fit_transform(filteredDS['location'])\n",
    "filteredDS['rest_type'] = lb_make.fit_transform(filteredDS['rest_type'])\n",
    "filteredDS['address'] = lb_make.fit_transform(filteredDS['address'])\n",
    "filteredDS['name'] = lb_make.fit_transform(filteredDS['name'])\n",
    "filteredDS['online_order'] = lb_make.fit_transform(filteredDS['online_order'])\n",
    "filteredDS['book_table'] = lb_make.fit_transform(filteredDS['book_table'])\n",
    "filteredDS['cuisines'] = lb_make.fit_transform(filteredDS['cuisines'])\n",
    "\n",
    "print(filteredDS.head())"
   ]
  },
  {
   "cell_type": "markdown",
   "metadata": {},
   "source": [
    "# Classification"
   ]
  },
  {
   "cell_type": "code",
   "execution_count": 26,
   "metadata": {},
   "outputs": [],
   "source": [
    "#combinations to be evaluated by hyperparameter tuning method\n",
    "\n",
    "from sklearn.model_selection import RandomizedSearchCV\n",
    "# Number of trees in random forest\n",
    "n_estimators = [10, 50, 100]\n",
    "# Number of features to consider at every split\n",
    "max_features = ['auto', 'sqrt']\n",
    "# Maximum number of levels in tree\n",
    "max_depth = [5, 10, 40]\n",
    "# Minimum number of samples required to split a node\n",
    "min_samples_split = [3, 5]\n",
    "# Minimum number of samples required at each leaf node\n",
    "min_samples_leaf = [2, 4, 8]\n",
    "# Method of selecting samples for training each tree\n",
    "bootstrap = [True, False]\n",
    "criterion = ['gini', 'entropy']\n",
    "\n",
    "# Create the random grid\n",
    "random_grid = {'n_estimators': n_estimators,\n",
    "               'max_features': max_features,\n",
    "               'max_depth': max_depth,\n",
    "               'min_samples_split': min_samples_split,\n",
    "               'min_samples_leaf': min_samples_leaf,\n",
    "               'bootstrap': bootstrap,\n",
    "            'criterion': criterion}"
   ]
  },
  {
   "cell_type": "code",
   "execution_count": 27,
   "metadata": {},
   "outputs": [
    {
     "name": "stdout",
     "output_type": "stream",
     "text": [
      "Fitting 5 folds for each of 40 candidates, totalling 200 fits\n"
     ]
    },
    {
     "name": "stderr",
     "output_type": "stream",
     "text": [
      "[Parallel(n_jobs=-1)]: Using backend LokyBackend with 4 concurrent workers.\n",
      "[Parallel(n_jobs=-1)]: Done  33 tasks      | elapsed:   28.2s\n",
      "[Parallel(n_jobs=-1)]: Done 154 tasks      | elapsed:  1.4min\n",
      "[Parallel(n_jobs=-1)]: Done 200 out of 200 | elapsed:  2.0min finished\n"
     ]
    },
    {
     "data": {
      "text/plain": [
       "RandomizedSearchCV(cv=5, error_score='raise-deprecating',\n",
       "                   estimator=RandomForestClassifier(bootstrap=True,\n",
       "                                                    class_weight=None,\n",
       "                                                    criterion='gini',\n",
       "                                                    max_depth=None,\n",
       "                                                    max_features='auto',\n",
       "                                                    max_leaf_nodes=None,\n",
       "                                                    min_impurity_decrease=0.0,\n",
       "                                                    min_impurity_split=None,\n",
       "                                                    min_samples_leaf=1,\n",
       "                                                    min_samples_split=2,\n",
       "                                                    min_weight_fraction_leaf=0.0,\n",
       "                                                    n_estimators='warn',\n",
       "                                                    n_jobs=None,\n",
       "                                                    oob_sc...\n",
       "                                                    warm_start=False),\n",
       "                   iid='warn', n_iter=40, n_jobs=-1,\n",
       "                   param_distributions={'bootstrap': [True, False],\n",
       "                                        'criterion': ['gini', 'entropy'],\n",
       "                                        'max_depth': [5, 10, 40],\n",
       "                                        'max_features': ['auto', 'sqrt'],\n",
       "                                        'min_samples_leaf': [2, 4, 8],\n",
       "                                        'min_samples_split': [3, 5],\n",
       "                                        'n_estimators': [10, 50, 100]},\n",
       "                   pre_dispatch='2*n_jobs', random_state=42, refit=True,\n",
       "                   return_train_score=False, scoring=None, verbose=2)"
      ]
     },
     "execution_count": 27,
     "metadata": {},
     "output_type": "execute_result"
    }
   ],
   "source": [
    "from sklearn.ensemble import RandomForestClassifier\n",
    "\n",
    "# Use the random grid to search for best hyperparameters\n",
    "# First create the base model to tune\n",
    "rf = RandomForestClassifier()\n",
    "# Random search of parameters, using 3 fold cross validation, \n",
    "# search across 100 different combinations, and use all available cores\n",
    "rf_random = RandomizedSearchCV(estimator = rf, param_distributions = random_grid, n_iter = 40, cv = 5, verbose=2, random_state=42, n_jobs = -1)\n",
    "# Fit the random search model\n",
    "rf_random.fit(filteredDS.values, y)"
   ]
  },
  {
   "cell_type": "code",
   "execution_count": 28,
   "metadata": {},
   "outputs": [
    {
     "data": {
      "text/plain": [
       "{'n_estimators': 10,\n",
       " 'min_samples_split': 5,\n",
       " 'min_samples_leaf': 4,\n",
       " 'max_features': 'auto',\n",
       " 'max_depth': 10,\n",
       " 'criterion': 'entropy',\n",
       " 'bootstrap': True}"
      ]
     },
     "execution_count": 28,
     "metadata": {},
     "output_type": "execute_result"
    }
   ],
   "source": [
    "#this is our best hyperparameters\n",
    "rf_random.best_params_"
   ]
  },
  {
   "cell_type": "code",
   "execution_count": 29,
   "metadata": {},
   "outputs": [],
   "source": [
    "# Build a forest and compute the feature importances\n",
    "classifier = rf_random.best_estimator_\n",
    "\n",
    "X = filteredDS.values"
   ]
  },
  {
   "cell_type": "code",
   "execution_count": 30,
   "metadata": {},
   "outputs": [
    {
     "data": {
      "text/plain": [
       "(10386, 9)"
      ]
     },
     "execution_count": 30,
     "metadata": {},
     "output_type": "execute_result"
    }
   ],
   "source": [
    "filteredDS.values.shape"
   ]
  },
  {
   "cell_type": "markdown",
   "metadata": {},
   "source": [
    "## Feature Selection using SFFS"
   ]
  },
  {
   "cell_type": "code",
   "execution_count": 31,
   "metadata": {},
   "outputs": [
    {
     "name": "stdout",
     "output_type": "stream",
     "text": [
      "\n",
      "Sequential Forward Floating Selection (k=5):\n",
      "(4, 5, 6, 7, 8)\n",
      "CV Score:\n",
      "0.8030035176040071\n"
     ]
    }
   ],
   "source": [
    "from mlxtend.feature_selection import SequentialFeatureSelector as SFS\n",
    "\n",
    "# Sequential Forward Floating Selection\n",
    "sffs = SFS(classifier, \n",
    "           k_features=5, \n",
    "           forward=True, \n",
    "           floating=True, \n",
    "           scoring='accuracy',\n",
    "           cv=5,\n",
    "           n_jobs=-1)\n",
    "sffs = sffs.fit(X, y)\n",
    "\n",
    "print('\\nSequential Forward Floating Selection (k=5):')\n",
    "print(sffs.k_feature_idx_)\n",
    "print('CV Score:')\n",
    "print(sffs.k_score_)"
   ]
  },
  {
   "cell_type": "code",
   "execution_count": 32,
   "metadata": {},
   "outputs": [
    {
     "name": "stdout",
     "output_type": "stream",
     "text": [
      "book_table\n",
      "rest_type\n",
      "cost\n",
      "cuisines\n",
      "votes\n"
     ]
    }
   ],
   "source": [
    "#list columns names for selected features\n",
    "feat = np.array(sffs.k_feature_idx_)\n",
    "for f in feat:\n",
    "    print(filteredDS.columns[f])"
   ]
  },
  {
   "cell_type": "code",
   "execution_count": 33,
   "metadata": {},
   "outputs": [],
   "source": [
    "X = filteredDS.iloc[:, np.array(sffs.k_feature_idx_)]"
   ]
  },
  {
   "cell_type": "code",
   "execution_count": 34,
   "metadata": {},
   "outputs": [
    {
     "data": {
      "text/plain": [
       "(10386,)"
      ]
     },
     "execution_count": 34,
     "metadata": {},
     "output_type": "execute_result"
    }
   ],
   "source": [
    "y.shape"
   ]
  },
  {
   "cell_type": "code",
   "execution_count": 35,
   "metadata": {},
   "outputs": [],
   "source": [
    "#scale X\n",
    "from sklearn.preprocessing import StandardScaler\n",
    "sc = StandardScaler()\n",
    "X = sc.fit_transform(X)"
   ]
  },
  {
   "cell_type": "code",
   "execution_count": 36,
   "metadata": {},
   "outputs": [],
   "source": [
    "from sklearn.model_selection import train_test_split\n",
    "X_train, X_test, y_train, y_test = train_test_split(X, y, test_size = 0.25, random_state = 0)"
   ]
  },
  {
   "cell_type": "markdown",
   "metadata": {},
   "source": [
    "### Helper Methods"
   ]
  },
  {
   "cell_type": "code",
   "execution_count": 37,
   "metadata": {},
   "outputs": [],
   "source": [
    "# Model Accuracy, how accurate is the classifier\n",
    "\n",
    "methods = []\n",
    "accuracies = []\n",
    "precisions = []\n",
    "f1_scores = []\n",
    "recalls = []\n",
    "\n",
    "from sklearn import metrics\n",
    "from sklearn.metrics import precision_score\n",
    "from sklearn.metrics import recall_score\n",
    "from sklearn.metrics import f1_score\n",
    "\n",
    "def showScores(y_test, y_pred, method_name):\n",
    "    acc = round(metrics.accuracy_score(y_test, y_pred)*100,2)\n",
    "    precision = round(precision_score(y_test, y_pred, average='weighted')*100,2)\n",
    "    recall = round(recall_score(y_test, y_pred, average='weighted')*100, 2)\n",
    "    f1score = round(f1_score(y_test, y_pred, average='weighted')*100, 2)\n",
    "                      \n",
    "    methods.append(method_name)\n",
    "    accuracies.append(acc)\n",
    "    precisions.append(precision)\n",
    "    recalls.append(recall)\n",
    "    f1_scores.append(f1score)\n",
    "                \n",
    "    print(\"Accuracy:\", acc)\n",
    "    print(\"Precision:\" , precision)\n",
    "    print(\"Recall:\" , recall)\n",
    "    print(\"f1_score:\" , f1score)\n"
   ]
  },
  {
   "cell_type": "code",
   "execution_count": 38,
   "metadata": {},
   "outputs": [],
   "source": [
    "# apply cross validation then measure the metrices\n",
    "\n",
    "from sklearn.metrics import make_scorer, accuracy_score, precision_score, recall_score, f1_score, SCORERS\n",
    "from sklearn import model_selection\n",
    "from sklearn.model_selection import cross_validate\n",
    "from sklearn.model_selection import cross_val_score\n",
    "\n",
    "cv_methods = []\n",
    "cv_accuracies = []\n",
    "cv_precisions = []\n",
    "cv_recalls = []\n",
    "cv_f1_scores = []\n",
    "\n",
    "def crossValidate(classifier, X, y, method):\n",
    "\n",
    "    cv_methods.append(method)\n",
    "    \n",
    "    #def print_accuracy_report(classifier, X, y, num_validations=5):\n",
    "    accuracy = cross_val_score(classifier, \n",
    "            X, y, scoring='accuracy', cv=5)\n",
    "    \n",
    "    acc = round(100*accuracy.mean(), 2)\n",
    "    \n",
    "    cv_accuracies.append(acc)\n",
    "    \n",
    "    print(\"Accuracy: \" + str(acc))\n",
    "\n",
    "    f1 = cross_val_score(classifier, \n",
    "            X, y, scoring='f1_weighted', cv=5)\n",
    "    print(\"F1: \" + str(round(100*f1.mean(), 2)))\n",
    "\n",
    "    precision = cross_val_score(classifier, \n",
    "            X, y, scoring='precision_weighted', cv=5)\n",
    "    \n",
    "    prec = round(100*precision.mean(), 2)\n",
    "    cv_precisions.append(prec)\n",
    "    \n",
    "    print(\"Precision: \" + str(prec))\n",
    "\n",
    "    recall = cross_val_score(classifier, \n",
    "            X, y, scoring='recall_weighted', cv=5)\n",
    "    print(\"Recall: \" + str(round(100*recall.mean(), 2)))"
   ]
  },
  {
   "cell_type": "code",
   "execution_count": 39,
   "metadata": {},
   "outputs": [
    {
     "data": {
      "text/plain": [
       "SVC(C=1.0, cache_size=200, class_weight=None, coef0=0.0,\n",
       "    decision_function_shape='ovr', degree=3, gamma='auto_deprecated',\n",
       "    kernel='rbf', max_iter=-1, probability=False, random_state=4,\n",
       "    shrinking=True, tol=0.001, verbose=False)"
      ]
     },
     "execution_count": 39,
     "metadata": {},
     "output_type": "execute_result"
    }
   ],
   "source": [
    "from sklearn.svm import SVC\n",
    "classifier = SVC(kernel = 'rbf', random_state = 4)\n",
    "classifier.fit(X_train, y_train)"
   ]
  },
  {
   "cell_type": "code",
   "execution_count": 40,
   "metadata": {},
   "outputs": [],
   "source": [
    "#Predicting the Test set results\n",
    "y_pred = classifier.predict(X_test)"
   ]
  },
  {
   "cell_type": "code",
   "execution_count": 41,
   "metadata": {},
   "outputs": [
    {
     "name": "stdout",
     "output_type": "stream",
     "text": [
      "Accuracy: 78.4\n",
      "Precision: 73.36\n",
      "Recall: 78.4\n",
      "f1_score: 74.28\n"
     ]
    }
   ],
   "source": [
    "showScores(y_test, y_pred, \"SVC\")"
   ]
  },
  {
   "cell_type": "markdown",
   "metadata": {},
   "source": [
    "## KNN"
   ]
  },
  {
   "cell_type": "code",
   "execution_count": 42,
   "metadata": {},
   "outputs": [
    {
     "data": {
      "text/plain": [
       "KNeighborsClassifier(algorithm='auto', leaf_size=30, metric='minkowski',\n",
       "                     metric_params=None, n_jobs=None, n_neighbors=5, p=2,\n",
       "                     weights='uniform')"
      ]
     },
     "execution_count": 42,
     "metadata": {},
     "output_type": "execute_result"
    }
   ],
   "source": [
    "# Fitting K-NN to the Training set\n",
    "from sklearn.neighbors import KNeighborsClassifier\n",
    "classifier = KNeighborsClassifier(n_neighbors = 5, metric = 'minkowski', p = 2)\n",
    "classifier.fit(X_train, y_train)"
   ]
  },
  {
   "cell_type": "code",
   "execution_count": 43,
   "metadata": {},
   "outputs": [],
   "source": [
    "#Predicting the Test set results\n",
    "y_pred = classifier.predict(X_test)"
   ]
  },
  {
   "cell_type": "code",
   "execution_count": 44,
   "metadata": {},
   "outputs": [
    {
     "name": "stdout",
     "output_type": "stream",
     "text": [
      "Fitting 3 folds for each of 16 candidates, totalling 48 fits\n"
     ]
    },
    {
     "name": "stderr",
     "output_type": "stream",
     "text": [
      "[Parallel(n_jobs=-1)]: Using backend LokyBackend with 4 concurrent workers.\n",
      "[Parallel(n_jobs=-1)]: Done  48 out of  48 | elapsed:    2.8s finished\n"
     ]
    }
   ],
   "source": [
    "# use hyperparameter tuning for KNN\n",
    "\n",
    "from sklearn.model_selection import GridSearchCV\n",
    "\n",
    "grid_params = {\n",
    "\t'n_neighbors' : [3,5,11,19],\n",
    "\t'weights' : ['uniform', 'distance'],\n",
    "\t'metric' : ['euclidean','manhattan']\n",
    "}\n",
    "\n",
    "gs = GridSearchCV(\n",
    "\tKNeighborsClassifier(),\n",
    "\tgrid_params,\n",
    "\tverbose = 1,\n",
    "\tcv = 3,\n",
    "\tn_jobs = -1\n",
    "\t)\n",
    "\n",
    "gs_results = gs.fit(X_train, y_train)"
   ]
  },
  {
   "cell_type": "code",
   "execution_count": 45,
   "metadata": {},
   "outputs": [
    {
     "data": {
      "text/plain": [
       "KNeighborsClassifier(algorithm='auto', leaf_size=30, metric='euclidean',\n",
       "                     metric_params=None, n_jobs=None, n_neighbors=19, p=2,\n",
       "                     weights='distance')"
      ]
     },
     "execution_count": 45,
     "metadata": {},
     "output_type": "execute_result"
    }
   ],
   "source": [
    "gs_results.best_estimator_"
   ]
  },
  {
   "cell_type": "code",
   "execution_count": 46,
   "metadata": {},
   "outputs": [
    {
     "data": {
      "text/plain": [
       "(10386, 5)"
      ]
     },
     "execution_count": 46,
     "metadata": {},
     "output_type": "execute_result"
    }
   ],
   "source": [
    "X.shape"
   ]
  },
  {
   "cell_type": "code",
   "execution_count": 47,
   "metadata": {},
   "outputs": [
    {
     "name": "stdout",
     "output_type": "stream",
     "text": [
      "Accuracy: 78.16\n",
      "F1: 75.45\n",
      "Precision: 73.97\n",
      "Recall: 78.16\n"
     ]
    }
   ],
   "source": [
    "# Applying k-Fold Cross Validation\n",
    "#from sklearn.model_selection import cross_val_score\n",
    "#accuracies = cross_val_score(estimator = gs_results.best_estimator_, X = X, y = y, cv = 5)\n",
    "#print(\"Accuracy:\", accuracies.mean()*100)\n",
    "crossValidate(gs_results.best_estimator_, X, y, \"KNN\")"
   ]
  },
  {
   "cell_type": "code",
   "execution_count": 48,
   "metadata": {},
   "outputs": [
    {
     "name": "stdout",
     "output_type": "stream",
     "text": [
      "Accuracy: 78.4\n",
      "Precision: 75.16\n",
      "Recall: 78.4\n",
      "f1_score: 76.14\n"
     ]
    }
   ],
   "source": [
    "showScores(y_test, y_pred, \"KNN\")"
   ]
  },
  {
   "cell_type": "markdown",
   "metadata": {},
   "source": [
    "## Random Forest"
   ]
  },
  {
   "cell_type": "code",
   "execution_count": 49,
   "metadata": {},
   "outputs": [
    {
     "data": {
      "text/plain": [
       "RandomForestClassifier(bootstrap=True, class_weight=None, criterion='entropy',\n",
       "                       max_depth=10, max_features='auto', max_leaf_nodes=None,\n",
       "                       min_impurity_decrease=0.0, min_impurity_split=None,\n",
       "                       min_samples_leaf=4, min_samples_split=5,\n",
       "                       min_weight_fraction_leaf=0.0, n_estimators=10,\n",
       "                       n_jobs=None, oob_score=False, random_state=None,\n",
       "                       verbose=0, warm_start=False)"
      ]
     },
     "execution_count": 49,
     "metadata": {},
     "output_type": "execute_result"
    }
   ],
   "source": [
    "# Fitting Random Forest Classification to the Training set\n",
    "classifier = rf_random.best_estimator_\n",
    "classifier.fit(X_train, y_train)\n"
   ]
  },
  {
   "cell_type": "code",
   "execution_count": 50,
   "metadata": {
    "scrolled": false
   },
   "outputs": [
    {
     "name": "stdout",
     "output_type": "stream",
     "text": [
      "Parameters currently in use:\n",
      "\n",
      "{'bootstrap': True,\n",
      " 'class_weight': None,\n",
      " 'criterion': 'entropy',\n",
      " 'max_depth': 10,\n",
      " 'max_features': 'auto',\n",
      " 'max_leaf_nodes': None,\n",
      " 'min_impurity_decrease': 0.0,\n",
      " 'min_impurity_split': None,\n",
      " 'min_samples_leaf': 4,\n",
      " 'min_samples_split': 5,\n",
      " 'min_weight_fraction_leaf': 0.0,\n",
      " 'n_estimators': 10,\n",
      " 'n_jobs': None,\n",
      " 'oob_score': False,\n",
      " 'random_state': None,\n",
      " 'verbose': 0,\n",
      " 'warm_start': False}\n"
     ]
    }
   ],
   "source": [
    "from pprint import pprint\n",
    "# Look at parameters used by our current forest\n",
    "print('Parameters currently in use:\\n')\n",
    "pprint(classifier.get_params())"
   ]
  },
  {
   "cell_type": "code",
   "execution_count": 51,
   "metadata": {},
   "outputs": [
    {
     "data": {
      "text/plain": [
       "5"
      ]
     },
     "execution_count": 51,
     "metadata": {},
     "output_type": "execute_result"
    }
   ],
   "source": [
    "X.shape[1]"
   ]
  },
  {
   "cell_type": "code",
   "execution_count": 52,
   "metadata": {},
   "outputs": [
    {
     "name": "stdout",
     "output_type": "stream",
     "text": [
      "Accuracy: 80.28\n",
      "F1: 77.04\n",
      "Precision: 75.47\n",
      "Recall: 80.42\n"
     ]
    }
   ],
   "source": [
    "crossValidate(classifier, X, y, \"Random Forest\")"
   ]
  },
  {
   "cell_type": "code",
   "execution_count": 53,
   "metadata": {},
   "outputs": [],
   "source": [
    "# Predicting the Test set results\n",
    "y_pred = classifier.predict(X_test)"
   ]
  },
  {
   "cell_type": "code",
   "execution_count": 54,
   "metadata": {},
   "outputs": [
    {
     "name": "stdout",
     "output_type": "stream",
     "text": [
      "Accuracy: 81.25\n",
      "Precision: 75.84\n",
      "Recall: 81.25\n",
      "f1_score: 78.01\n"
     ]
    }
   ],
   "source": [
    "showScores(y_test, y_pred, \"Random Forest\")"
   ]
  },
  {
   "cell_type": "markdown",
   "metadata": {},
   "source": [
    "## Naive Bayes"
   ]
  },
  {
   "cell_type": "code",
   "execution_count": 55,
   "metadata": {},
   "outputs": [
    {
     "data": {
      "text/plain": [
       "GaussianNB(priors=None, var_smoothing=1e-09)"
      ]
     },
     "execution_count": 55,
     "metadata": {},
     "output_type": "execute_result"
    }
   ],
   "source": [
    "# Fitting Naive Bayes to the Training set\n",
    "from sklearn.naive_bayes import GaussianNB\n",
    "classifier = GaussianNB()\n",
    "classifier.fit(X_train, y_train)"
   ]
  },
  {
   "cell_type": "code",
   "execution_count": 56,
   "metadata": {},
   "outputs": [],
   "source": [
    "# Predicting the Test set results\n",
    "y_pred = classifier.predict(X_test)"
   ]
  },
  {
   "cell_type": "code",
   "execution_count": 57,
   "metadata": {},
   "outputs": [
    {
     "name": "stdout",
     "output_type": "stream",
     "text": [
      "Accuracy: 76.74\n",
      "Precision: 71.11\n",
      "Recall: 76.74\n",
      "f1_score: 72.76\n"
     ]
    }
   ],
   "source": [
    "showScores(y_test, y_pred, \"Naive Bayes\")"
   ]
  },
  {
   "cell_type": "markdown",
   "metadata": {},
   "source": [
    "## Decision Tree"
   ]
  },
  {
   "cell_type": "code",
   "execution_count": 58,
   "metadata": {},
   "outputs": [
    {
     "data": {
      "text/plain": [
       "DecisionTreeClassifier(class_weight=None, criterion='entropy', max_depth=None,\n",
       "                       max_features=None, max_leaf_nodes=None,\n",
       "                       min_impurity_decrease=0.0, min_impurity_split=None,\n",
       "                       min_samples_leaf=1, min_samples_split=2,\n",
       "                       min_weight_fraction_leaf=0.0, presort=False,\n",
       "                       random_state=0, splitter='best')"
      ]
     },
     "execution_count": 58,
     "metadata": {},
     "output_type": "execute_result"
    }
   ],
   "source": [
    "# Fitting Decision Tree Classification to the Training set\n",
    "from sklearn.tree import DecisionTreeClassifier\n",
    "classifier = DecisionTreeClassifier(criterion = 'entropy', random_state = 0)\n",
    "classifier.fit(X_train, y_train)"
   ]
  },
  {
   "cell_type": "code",
   "execution_count": 59,
   "metadata": {},
   "outputs": [],
   "source": [
    "# Predicting the Test set results\n",
    "y_pred = classifier.predict(X_test)\n"
   ]
  },
  {
   "cell_type": "code",
   "execution_count": 60,
   "metadata": {},
   "outputs": [
    {
     "name": "stdout",
     "output_type": "stream",
     "text": [
      "Accuracy: 73.55\n",
      "Precision: 73.81\n",
      "Recall: 73.55\n",
      "f1_score: 73.68\n"
     ]
    }
   ],
   "source": [
    "showScores(y_test, y_pred, \"Decision Tree\")"
   ]
  },
  {
   "cell_type": "markdown",
   "metadata": {},
   "source": [
    "## logistic regression"
   ]
  },
  {
   "cell_type": "code",
   "execution_count": 61,
   "metadata": {},
   "outputs": [
    {
     "data": {
      "text/plain": [
       "LogisticRegression(C=1.0, class_weight=None, dual=False, fit_intercept=True,\n",
       "                   intercept_scaling=1, l1_ratio=None, max_iter=100,\n",
       "                   multi_class='warn', n_jobs=None, penalty='l2',\n",
       "                   random_state=0, solver='warn', tol=0.0001, verbose=0,\n",
       "                   warm_start=False)"
      ]
     },
     "execution_count": 61,
     "metadata": {},
     "output_type": "execute_result"
    }
   ],
   "source": [
    "# Fitting Logistic Regression to the Training set\n",
    "from sklearn.linear_model import LogisticRegression\n",
    "classifier = LogisticRegression(random_state = 0)\n",
    "classifier.fit(X_train, y_train)"
   ]
  },
  {
   "cell_type": "code",
   "execution_count": 62,
   "metadata": {},
   "outputs": [],
   "source": [
    "y_pred = classifier.predict(X_test)"
   ]
  },
  {
   "cell_type": "code",
   "execution_count": 63,
   "metadata": {},
   "outputs": [
    {
     "name": "stdout",
     "output_type": "stream",
     "text": [
      "Accuracy: 77.86\n",
      "Precision: 72.71\n",
      "Recall: 77.86\n",
      "f1_score: 73.61\n"
     ]
    }
   ],
   "source": [
    "showScores(y_test, y_pred, \"logistic regression\")"
   ]
  },
  {
   "cell_type": "code",
   "execution_count": 64,
   "metadata": {},
   "outputs": [
    {
     "data": {
      "image/png": "[encoded data removed]",
      "text/plain": [
       "<Figure size 864x360 with 1 Axes>"
      ]
     },
     "metadata": {},
     "output_type": "display_data"
    }
   ],
   "source": [
    "#compare different results\n",
    "\n",
    "import matplotlib.pyplot as plt\n",
    "\n",
    "fig, ax = plt.subplots(figsize=(len(accuracies)*2, 5))\n",
    "index = np.arange(len(accuracies))\n",
    "bar_width = 0.2\n",
    "opacity = 0.8\n",
    "\n",
    "bar1 = plt.bar(index, accuracies, bar_width,\n",
    "alpha=opacity,\n",
    "color='orange',\n",
    "edgecolor='black',\n",
    "label='Accuracy')\n",
    "\n",
    "bar2 = plt.bar(index + bar_width, precisions, bar_width,\n",
    "alpha=opacity,\n",
    "color='blue',\n",
    "edgecolor='black',\n",
    "label='precision')\n",
    "\n",
    "bar3 = plt.bar(index + bar_width*2, recalls, bar_width,\n",
    "alpha=opacity,\n",
    "color='red',\n",
    "edgecolor='black',\n",
    "label='recall')\n",
    "\n",
    "bar4 = plt.bar(index + bar_width*3, f1_scores, bar_width,\n",
    "alpha=opacity,\n",
    "color='green',\n",
    "edgecolor='black',\n",
    "label='f1 score')\n",
    "\n",
    "plt.xlabel('Methods')\n",
    "plt.ylabel('Scores(%)')\n",
    "plt.title('Scores by method')\n",
    "plt.xticks(index + bar_width, methods)\n",
    "plt.legend(loc='lower right')\n",
    "\n",
    "def points_values(values):\n",
    "    for i in values:\n",
    "        height = i.get_height()\n",
    "        ax.annotate(format(height),\n",
    "                    xy=(i.get_x() + i.get_width() / 2, height),\n",
    "                    xytext=(0, 3),\n",
    "                    textcoords=\"offset points\",\n",
    "                   ha = 'center')\n",
    "\n",
    "\n",
    "points_values(bar1)\n",
    "points_values(bar2)\n",
    "points_values(bar3)\n",
    "points_values(bar4)\n",
    "\n",
    "plt.tight_layout()\n",
    "plt.show()"
   ]
  },
  {
   "cell_type": "code",
   "execution_count": 65,
   "metadata": {},
   "outputs": [
    {
     "data": {
      "image/png": "[encoded data removed]",
      "text/plain": [
       "<Figure size 360x360 with 1 Axes>"
      ]
     },
     "metadata": {},
     "output_type": "display_data"
    }
   ],
   "source": [
    "# compare results with using cross validation\n",
    "\n",
    "fig, ax = plt.subplots(figsize=(5, 5))\n",
    "index = np.arange(len(cv_accuracies))\n",
    "bar_width = 0.25\n",
    "opacity = 0.8\n",
    "\n",
    "bar1 = plt.bar(index, cv_accuracies, bar_width,\n",
    "alpha=opacity,\n",
    "color='orange',\n",
    "edgecolor='black',\n",
    "label='Accuracy')\n",
    "\n",
    "bar2 = plt.bar(index + bar_width, cv_precisions, bar_width,\n",
    "alpha=opacity,\n",
    "color='blue',\n",
    "edgecolor='black',\n",
    "label='precision')\n",
    "\n",
    "plt.xlabel('Methods')\n",
    "plt.ylabel('Scores(%)')\n",
    "plt.title('Scores by method validated by 5-folds cross validation')\n",
    "plt.xticks(index + bar_width, cv_methods)\n",
    "plt.legend(loc='lower right')\n",
    "\n",
    "points_values(bar1)\n",
    "points_values(bar2)\n",
    "\n",
    "plt.tight_layout()\n",
    "plt.show()"
   ]
  },
  {
   "cell_type": "markdown",
   "metadata": {},
   "source": [
    "# Clustering"
   ]
  },
  {
   "cell_type": "code",
   "execution_count": 66,
   "metadata": {
    "scrolled": true
   },
   "outputs": [
    {
     "data": {
      "image/png": "[encoded data removed]",
      "text/plain": [
       "<Figure size 432x288 with 1 Axes>"
      ]
     },
     "metadata": {},
     "output_type": "display_data"
    }
   ],
   "source": [
    "from sklearn.cluster import KMeans\n",
    "wcss = []\n",
    "for i in range(1, 11):\n",
    "    kmeans = KMeans(n_clusters = i, init = 'k-means++', random_state = 42)\n",
    "    kmeans.fit(X_train)\n",
    "    wcss.append(kmeans.inertia_)\n",
    "plt.plot(range(1, 11), wcss)\n",
    "plt.title('The Elbow Method')\n",
    "plt.xlabel('Number of clusters')\n",
    "plt.ylabel('WCSS')\n",
    "plt.show()"
   ]
  },
  {
   "cell_type": "code",
   "execution_count": 67,
   "metadata": {
    "scrolled": true
   },
   "outputs": [
    {
     "name": "stdout",
     "output_type": "stream",
     "text": [
      "(10386, 5)\n"
     ]
    },
    {
     "data": {
      "image/png": "[encoded data removed]",
      "text/plain": [
       "<Figure size 432x288 with 1 Axes>"
      ]
     },
     "metadata": {},
     "output_type": "display_data"
    }
   ],
   "source": [
    "# Fitting K-Means to the dataset\n",
    "X_cluster = X[:,[2,4]]\n",
    "print(X.shape)\n",
    "kmeans = KMeans(n_clusters = 3, init = 'k-means++', random_state = 42)\n",
    "y_kmeans = kmeans.fit_predict(X_cluster)\n",
    "\n",
    "# Visualising the clusters\n",
    "plt.scatter(X_cluster[y_kmeans == 0, 0], X_cluster[y_kmeans == 0, 1], s = 100, c = 'red', label = 'Cluster 1')\n",
    "plt.scatter(X_cluster[y_kmeans == 1, 0], X_cluster[y_kmeans == 1, 1], s = 100, c = 'blue', label = 'Cluster 2')\n",
    "plt.scatter(X_cluster[y_kmeans == 2, 0], X_cluster[y_kmeans == 2, 1], s = 100, c = 'green', label = 'Cluster 3')\n",
    "plt.scatter(kmeans.cluster_centers_[:, 0], kmeans.cluster_centers_[:, 1], s = 300, c = 'yellow', label = 'Centroids')\n",
    "plt.legend()\n",
    "plt.show()"
   ]
  },
  {
   "cell_type": "code",
   "execution_count": 68,
   "metadata": {},
   "outputs": [
    {
     "data": {
      "image/png": "[encoded data removed]",
      "text/plain": [
       "<Figure size 576x396 with 1 Axes>"
      ]
     },
     "metadata": {},
     "output_type": "display_data"
    },
    {
     "data": {
      "text/plain": [
       "<matplotlib.axes._subplots.AxesSubplot at 0x1b112919860>"
      ]
     },
     "execution_count": 68,
     "metadata": {},
     "output_type": "execute_result"
    }
   ],
   "source": [
    "# calculating Silhouette width and visualize it\n",
    "\n",
    "from yellowbrick.cluster import SilhouetteVisualizer\n",
    "\n",
    "model = SilhouetteVisualizer(KMeans(3))\n",
    "model.fit(X_train)\n",
    "model.show()"
   ]
  },
  {
   "cell_type": "code",
   "execution_count": null,
   "metadata": {},
   "outputs": [],
   "source": []
  }
 ],
 "metadata": {
  "kernelspec": {
   "display_name": "Python 3",
   "language": "python",
   "name": "python3"
  },
  "language_info": {
   "codemirror_mode": {
    "name": "ipython",
    "version": 3
   },
   "file_extension": ".py",
   "mimetype": "text/x-python",
   "name": "python",
   "nbconvert_exporter": "python",
   "pygments_lexer": "ipython3",
   "version": "3.7.4"
  }
 },
 "nbformat": 4,
 "nbformat_minor": 4
}
